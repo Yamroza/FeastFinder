{
 "cells": [
  {
   "cell_type": "code",
   "execution_count": 1,
   "id": "9585812dcb3131db",
   "metadata": {
    "ExecuteTime": {
     "end_time": "2024-09-21T19:32:54.686166Z",
     "start_time": "2024-09-21T19:32:54.683852Z"
    }
   },
   "outputs": [],
   "source": [
    "import pandas as pd\n",
    "from Levenshtein import distance"
   ]
  },
  {
   "cell_type": "code",
   "execution_count": 2,
   "id": "367ac994cedd6948",
   "metadata": {
    "ExecuteTime": {
     "end_time": "2024-09-21T19:32:55.067058Z",
     "start_time": "2024-09-21T19:32:55.061063Z"
    }
   },
   "outputs": [],
   "source": [
    "restaurant_info = pd.read_csv('restaurant_info.csv')\n",
    "\n",
    "# extracting preferences available in out dataset\n",
    "food_types = pd.unique(restaurant_info['food'].dropna())\n",
    "areas = pd.unique(restaurant_info['area'].dropna())\n",
    "prices = pd.unique(restaurant_info['pricerange'].dropna())"
   ]
  },
  {
   "cell_type": "code",
   "execution_count": 3,
   "id": "99361bef1840628b",
   "metadata": {
    "ExecuteTime": {
     "end_time": "2024-09-21T19:33:03.012835Z",
     "start_time": "2024-09-21T19:33:03.009666Z"
    }
   },
   "outputs": [],
   "source": [
    "external_food_types = ['hindi', 'greek', 'scottish', 'corsica', 'christmas',\n",
    "                       'mexican', 'kosher', 'belgium', 'world', 'creative',\n",
    "                       'cantonese', 'basque', 'brazilian', 'hungarian',\n",
    "                       'vegetarian', 'halal', 'austrian', 'german', 'kosher',\n",
    "                       'australian', 'barbecue', 'scandinavian', 'swedish',\n",
    "                       'danish', 'afghan',\n",
    "                       ]\n",
    "food_types = list(food_types)\n",
    "food_types.extend(external_food_types)\n",
    "# areas.extend([\"any\"])\n",
    "# prices.extend([\"any\"])\n"
   ]
  },
  {
   "cell_type": "code",
   "execution_count": 4,
   "id": "9e425d32369b3ff9",
   "metadata": {
    "ExecuteTime": {
     "end_time": "2024-09-21T19:33:03.503912Z",
     "start_time": "2024-09-21T19:33:03.500457Z"
    }
   },
   "outputs": [],
   "source": [
    "def extract_preference(utterance: str, category_list: list, threshold_distance: int) -> str:\n",
    "    words = utterance.lower().split()\n",
    "    \n",
    "    best_word = None\n",
    "    for word in words:\n",
    "        for keyword in category_list:\n",
    "            word_distance = distance(word, keyword)\n",
    "            if word_distance <= threshold_distance:\n",
    "                threshold_distance = word_distance\n",
    "                best_word = keyword\n",
    "\n",
    "    return best_word\n",
    "\n"
   ]
  },
  {
   "cell_type": "code",
   "execution_count": 5,
   "id": "a73de8a988ae126f",
   "metadata": {
    "ExecuteTime": {
     "end_time": "2024-09-21T19:33:04.245517Z",
     "start_time": "2024-09-21T19:33:04.241275Z"
    }
   },
   "outputs": [],
   "source": [
    "def extract_all_preferences(utterance: str, food_types: list = food_types, areas: list = areas, prices: list= prices) -> dict[str, str]:\n",
    "    \"\"\"\n",
    "    Extracts all preferences from a single 'inform' utterance at once\n",
    "    TO DISCUSS:\n",
    "    In the exercise description maximal Levenshtein distance is 3. Imo 3 is too much.\n",
    "    Examples where 3 still finds a preference (word in utterance -> preference):\n",
    "    food -> seafood\n",
    "    english -> polish\n",
    "    care -> centre\n",
    "    \"\"\"\n",
    "    value_dict = dict()\n",
    "    value_dict['food_type'] = extract_preference(utterance, food_types, 2)\n",
    "    value_dict['area'] = extract_preference(utterance, areas, 2)\n",
    "    value_dict['price'] = extract_preference(utterance, prices, 2)\n",
    "    \n",
    "    return value_dict    "
   ]
  },
  {
   "cell_type": "code",
   "execution_count": 15,
   "id": "868ab1212165cbd9",
   "metadata": {
    "ExecuteTime": {
     "end_time": "2024-09-21T19:33:15.192095Z",
     "start_time": "2024-09-21T19:33:15.187179Z"
    }
   },
   "outputs": [],
   "source": [
    "# idc = ['t care', 'any', 't matter']\n",
    "\n",
    "sample_utterance = 'cheep, any food in amazing sothu of Utrecht'\n",
    "preferences = extract_all_preferences(sample_utterance, food_types, areas, prices)\n",
    "preferences= {'food_type': 'any', 'area': 'south', 'price': 'cheap'}"
   ]
  },
  {
   "cell_type": "code",
   "execution_count": 11,
   "id": "73a4eee7bdaa5a6",
   "metadata": {
    "ExecuteTime": {
     "end_time": "2024-09-21T19:33:20.272340Z",
     "start_time": "2024-09-21T19:33:20.268038Z"
    }
   },
   "outputs": [],
   "source": [
    "def find_restaurants(restaurant_info: pd.DataFrame, preferences: dict) -> pd.DataFrame:\n",
    "    \"\"\"\n",
    "    Searches for matching restaurants based on preferences\n",
    "    :param restaurant_info: dataset with all available restaurants\n",
    "    :param preferences: dictionary with 3 keys: food_type, area and price. \n",
    "    If key is 'any', the constraint is skipped. At least 1 key is required.\n",
    "    :return: pd.Dataframe of matching restaurants\n",
    "    \"\"\"\n",
    "    restaurants = restaurant_info[\n",
    "        (restaurant_info['food'] == preferences['food_type'] if preferences['food_type'] != 'any' else True) & \n",
    "        (restaurant_info['area'] == preferences['area'] if preferences['area'] != 'any' else True) &\n",
    "        (restaurant_info['pricerange'] == preferences['price'] if preferences['price'] != 'any' else True)\n",
    "    ]\n",
    "    return restaurants"
   ]
  },
  {
   "cell_type": "code",
   "execution_count": 16,
   "id": "e4e0df0596b8bb2d",
   "metadata": {
    "ExecuteTime": {
     "end_time": "2024-09-21T19:33:20.992767Z",
     "start_time": "2024-09-21T19:33:20.984376Z"
    }
   },
   "outputs": [
    {
     "data": {
      "text/html": [
       "<div>\n",
       "<style scoped>\n",
       "    .dataframe tbody tr th:only-of-type {\n",
       "        vertical-align: middle;\n",
       "    }\n",
       "\n",
       "    .dataframe tbody tr th {\n",
       "        vertical-align: top;\n",
       "    }\n",
       "\n",
       "    .dataframe thead th {\n",
       "        text-align: right;\n",
       "    }\n",
       "</style>\n",
       "<table border=\"1\" class=\"dataframe\">\n",
       "  <thead>\n",
       "    <tr style=\"text-align: right;\">\n",
       "      <th></th>\n",
       "      <th>restaurantname</th>\n",
       "      <th>pricerange</th>\n",
       "      <th>area</th>\n",
       "      <th>food</th>\n",
       "      <th>phone</th>\n",
       "      <th>addr</th>\n",
       "      <th>postcode</th>\n",
       "    </tr>\n",
       "  </thead>\n",
       "  <tbody>\n",
       "    <tr>\n",
       "      <th>10</th>\n",
       "      <td>nandos</td>\n",
       "      <td>cheap</td>\n",
       "      <td>south</td>\n",
       "      <td>portuguese</td>\n",
       "      <td>01223 327908</td>\n",
       "      <td>cambridge leisure park clifton way</td>\n",
       "      <td>c.b 1</td>\n",
       "    </tr>\n",
       "    <tr>\n",
       "      <th>14</th>\n",
       "      <td>the missing sock</td>\n",
       "      <td>cheap</td>\n",
       "      <td>south</td>\n",
       "      <td>chinese</td>\n",
       "      <td>01223 812660</td>\n",
       "      <td>finders corner newmarket road</td>\n",
       "      <td>c.b 25</td>\n",
       "    </tr>\n",
       "    <tr>\n",
       "      <th>37</th>\n",
       "      <td>la margherita</td>\n",
       "      <td>cheap</td>\n",
       "      <td>south</td>\n",
       "      <td>italian</td>\n",
       "      <td>01223 315232</td>\n",
       "      <td>15 magdalene street city centre</td>\n",
       "      <td>c.b 3</td>\n",
       "    </tr>\n",
       "    <tr>\n",
       "      <th>43</th>\n",
       "      <td>rice house</td>\n",
       "      <td>cheap</td>\n",
       "      <td>south</td>\n",
       "      <td>chinese</td>\n",
       "      <td>01223 367755</td>\n",
       "      <td>88 mill road city centre</td>\n",
       "      <td>NaN</td>\n",
       "    </tr>\n",
       "    <tr>\n",
       "      <th>54</th>\n",
       "      <td>the lucky star</td>\n",
       "      <td>cheap</td>\n",
       "      <td>south</td>\n",
       "      <td>chinese</td>\n",
       "      <td>01223 244277</td>\n",
       "      <td>cambridge leisure park clifton way cherry hinton</td>\n",
       "      <td>c.b 1</td>\n",
       "    </tr>\n",
       "  </tbody>\n",
       "</table>\n",
       "</div>"
      ],
      "text/plain": [
       "      restaurantname pricerange   area        food         phone  \\\n",
       "10            nandos      cheap  south  portuguese  01223 327908   \n",
       "14  the missing sock      cheap  south     chinese  01223 812660   \n",
       "37     la margherita      cheap  south     italian  01223 315232   \n",
       "43        rice house      cheap  south     chinese  01223 367755   \n",
       "54    the lucky star      cheap  south     chinese  01223 244277   \n",
       "\n",
       "                                                addr postcode  \n",
       "10                cambridge leisure park clifton way    c.b 1  \n",
       "14                     finders corner newmarket road   c.b 25  \n",
       "37                   15 magdalene street city centre    c.b 3  \n",
       "43                          88 mill road city centre      NaN  \n",
       "54  cambridge leisure park clifton way cherry hinton    c.b 1  "
      ]
     },
     "execution_count": 16,
     "metadata": {},
     "output_type": "execute_result"
    }
   ],
   "source": [
    "find_restaurants(restaurant_info, preferences)"
   ]
  }
 ],
 "metadata": {
  "kernelspec": {
   "display_name": "Python 3",
   "language": "python",
   "name": "python3"
  },
  "language_info": {
   "codemirror_mode": {
    "name": "ipython",
    "version": 3
   },
   "file_extension": ".py",
   "mimetype": "text/x-python",
   "name": "python",
   "nbconvert_exporter": "python",
   "pygments_lexer": "ipython3",
   "version": "3.11.7"
  }
 },
 "nbformat": 4,
 "nbformat_minor": 5
}
