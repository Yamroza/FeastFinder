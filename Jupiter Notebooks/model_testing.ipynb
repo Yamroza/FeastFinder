{
 "cells": [
  {
   "cell_type": "code",
   "id": "initial_id",
   "metadata": {
    "collapsed": true,
    "ExecuteTime": {
     "end_time": "2024-10-05T22:12:08.941098Z",
     "start_time": "2024-10-05T22:12:08.938047Z"
    }
   },
   "source": [
    "from sklearn.model_selection import train_test_split\n",
    "from models import BaselineModel, RuleBasedModel"
   ],
   "outputs": [],
   "execution_count": 6
  },
  {
   "metadata": {
    "ExecuteTime": {
     "end_time": "2024-10-05T22:12:09.217379Z",
     "start_time": "2024-10-05T22:12:09.188671Z"
    }
   },
   "cell_type": "code",
   "source": [
    "x_set = []\n",
    "y_set = []\n",
    "\n",
    "with open(\"data/dialog_acts.dat\", 'r') as file:\n",
    "    for line in file:\n",
    "        y_set.append(line.split()[0])\n",
    "        x_set.append(\" \".join(line.split()[1:]).lower())\n",
    "        \n",
    "x_train, x_test, y_train, y_test = train_test_split(x_set, y_set, test_size=0.2, random_state=42)"
   ],
   "id": "3b9bd90a13a1450a",
   "outputs": [],
   "execution_count": 7
  },
  {
   "metadata": {
    "ExecuteTime": {
     "end_time": "2024-10-05T22:12:09.479186Z",
     "start_time": "2024-10-05T22:12:09.465748Z"
    }
   },
   "cell_type": "code",
   "source": [
    "x_train, x_test, y_train, y_test = train_test_split(x_set, y_set, test_size=0.2, random_state=42)\n",
    " \n",
    "x_train[:3], y_train[:3]"
   ],
   "id": "108ba21de4376993",
   "outputs": [
    {
     "data": {
      "text/plain": [
       "(['find me a moderately priced restaurant in the west part of town',\n",
       "  'thank you good bye',\n",
       "  'yes'],\n",
       " ['inform', 'thankyou', 'affirm'])"
      ]
     },
     "execution_count": 8,
     "metadata": {},
     "output_type": "execute_result"
    }
   ],
   "execution_count": 8
  },
  {
   "metadata": {
    "ExecuteTime": {
     "end_time": "2024-10-05T20:09:09.352667Z",
     "start_time": "2024-10-05T20:09:09.349376Z"
    }
   },
   "cell_type": "code",
   "source": "model = BaselineModel()",
   "id": "a0657b12429efd88",
   "outputs": [],
   "execution_count": 4
  },
  {
   "metadata": {
    "ExecuteTime": {
     "end_time": "2024-10-05T20:09:09.634284Z",
     "start_time": "2024-10-05T20:09:09.621824Z"
    }
   },
   "cell_type": "code",
   "source": "model.train(x_train, y_train)",
   "id": "45c323ef1a3381e8",
   "outputs": [],
   "execution_count": 5
  },
  {
   "metadata": {
    "ExecuteTime": {
     "end_time": "2024-10-05T20:09:09.734442Z",
     "start_time": "2024-10-05T20:09:09.731992Z"
    }
   },
   "cell_type": "code",
   "source": "model.predict('Hi!')",
   "id": "1e37b7cf7078fe8c",
   "outputs": [
    {
     "data": {
      "text/plain": [
       "'inform'"
      ]
     },
     "execution_count": 6,
     "metadata": {},
     "output_type": "execute_result"
    }
   ],
   "execution_count": 6
  },
  {
   "metadata": {
    "ExecuteTime": {
     "end_time": "2024-10-05T20:09:09.895365Z",
     "start_time": "2024-10-05T20:09:09.853897Z"
    }
   },
   "cell_type": "code",
   "source": "accuracy, precision, recall, f1 = model.evaluate(x_test, y_test)",
   "id": "beb33181227c56b0",
   "outputs": [],
   "execution_count": 7
  },
  {
   "metadata": {
    "ExecuteTime": {
     "end_time": "2024-10-05T20:09:15.987588Z",
     "start_time": "2024-10-05T20:09:15.984155Z"
    }
   },
   "cell_type": "code",
   "source": "accuracy, precision, recall, f1",
   "id": "856928ed305e420e",
   "outputs": [
    {
     "data": {
      "text/plain": [
       "(0.40011762399529505,\n",
       " 0.1600941130316403,\n",
       " 0.40011762399529505,\n",
       " 0.22868666216029043)"
      ]
     },
     "execution_count": 8,
     "metadata": {},
     "output_type": "execute_result"
    }
   ],
   "execution_count": 8
  },
  {
   "metadata": {
    "ExecuteTime": {
     "end_time": "2024-10-05T20:17:39.326172Z",
     "start_time": "2024-10-05T20:17:39.321839Z"
    }
   },
   "cell_type": "code",
   "source": [
    "keyword_dict = {\n",
    "            'ack': ['kay', 'okay', 'good', 'fine'],\n",
    "            'affirm': ['yes', 'right', 'correct', 'yeah', 'ye', 'right', 'correct', 'perfect'],\n",
    "            'bye': ['good', 'bye'],\n",
    "            'confirm': ['does', 'is', 'it'],\n",
    "            'deny': ['wrong', 'want', 'dont'],\n",
    "            'hello': ['hi', 'hello', 'im', 'looking'],\n",
    "            'inform': ['any', 'food', 'dont', 'care', 'expensive', 'moderate', 'cheap', 'east', 'west', 'north', 'south', 'centre', 'town', 'area', 'im', 'need', 'restaurant', 'looking'],\n",
    "            'negate': ['no'],\n",
    "            'null': ['unintelligible', 'noise', 'what', 'uh', 'sil', 'laughing'],\n",
    "            'repeat': ['repeat', 'back', 'go', 'again'],\n",
    "            'reqalts': ['else', 'next', 'how', 'about', 'any', 'anything', 'is', 'there', 'other'],\n",
    "            'reqmore': ['more'],\n",
    "            'request': ['type', 'phone', 'number', 'address', 'post', 'code', 'could', 'what', 'is', 'the', 'type', 'whats', 'may', 'i'],\n",
    "            'restart': ['start', 'over', 'reset'],\n",
    "            'thankyou': ['thank', 'you', 'good', 'bye', 'goodbye'],\n",
    "        }"
   ],
   "id": "1d7c85be3adf2f4a",
   "outputs": [],
   "execution_count": 9
  },
  {
   "metadata": {
    "ExecuteTime": {
     "end_time": "2024-10-05T20:17:54.611615Z",
     "start_time": "2024-10-05T20:17:54.608461Z"
    }
   },
   "cell_type": "code",
   "source": "keyword_dict.values()",
   "id": "7e8c5c5b7209a929",
   "outputs": [
    {
     "data": {
      "text/plain": [
       "dict_values([['kay', 'okay', 'good', 'fine'], ['yes', 'right', 'correct', 'yeah', 'ye', 'right', 'correct', 'perfect'], ['good', 'bye'], ['does', 'is', 'it'], ['wrong', 'want', 'dont'], ['hi', 'hello', 'im', 'looking'], ['any', 'food', 'dont', 'care', 'expensive', 'moderate', 'cheap', 'east', 'west', 'north', 'south', 'centre', 'town', 'area', 'im', 'need', 'restaurant', 'looking'], ['no'], ['unintelligible', 'noise', 'what', 'uh', 'sil', 'laughing'], ['repeat', 'back', 'go', 'again'], ['else', 'next', 'how', 'about', 'any', 'anything', 'is', 'there', 'other'], ['more'], ['type', 'phone', 'number', 'address', 'post', 'code', 'could', 'what', 'is', 'the', 'type', 'whats', 'may', 'i'], ['start', 'over', 'reset'], ['thank', 'you', 'good', 'bye', 'goodbye']])"
      ]
     },
     "execution_count": 10,
     "metadata": {},
     "output_type": "execute_result"
    }
   ],
   "execution_count": 10
  },
  {
   "metadata": {},
   "cell_type": "markdown",
   "source": "",
   "id": "1ee889cf21721984"
  },
  {
   "metadata": {
    "ExecuteTime": {
     "end_time": "2024-10-05T20:24:53.679568Z",
     "start_time": "2024-10-05T20:24:53.233353Z"
    }
   },
   "cell_type": "code",
   "source": "from models import RuleBasedModel",
   "id": "7c2f23cbd9e59fe8",
   "outputs": [],
   "execution_count": 1
  },
  {
   "metadata": {
    "ExecuteTime": {
     "end_time": "2024-10-05T20:24:53.748397Z",
     "start_time": "2024-10-05T20:24:53.746698Z"
    }
   },
   "cell_type": "code",
   "source": "model = RuleBasedModel()\n",
   "id": "6b2b2022c1f9eb2c",
   "outputs": [],
   "execution_count": 2
  },
  {
   "metadata": {
    "ExecuteTime": {
     "end_time": "2024-10-05T20:25:00.187481Z",
     "start_time": "2024-10-05T20:25:00.185408Z"
    }
   },
   "cell_type": "code",
   "source": "input = 'Repeat please'",
   "id": "2fd8e5ed110f8a6f",
   "outputs": [],
   "execution_count": 5
  },
  {
   "metadata": {
    "ExecuteTime": {
     "end_time": "2024-10-05T20:25:00.581494Z",
     "start_time": "2024-10-05T20:25:00.578920Z"
    }
   },
   "cell_type": "code",
   "source": "model.predict(input)",
   "id": "b62c850b2a2602b",
   "outputs": [
    {
     "data": {
      "text/plain": [
       "'repeat'"
      ]
     },
     "execution_count": 6,
     "metadata": {},
     "output_type": "execute_result"
    }
   ],
   "execution_count": 6
  },
  {
   "metadata": {
    "ExecuteTime": {
     "end_time": "2024-10-06T18:11:11.699583Z",
     "start_time": "2024-10-06T18:11:09.605235Z"
    }
   },
   "cell_type": "code",
   "source": "from ml_models import LR_WE_Model",
   "id": "19d7aa836bfa3a73",
   "outputs": [
    {
     "name": "stderr",
     "output_type": "stream",
     "text": [
      "[nltk_data] Downloading package punkt_tab to\n",
      "[nltk_data]     /Users/yamroza/nltk_data...\n",
      "[nltk_data]   Package punkt_tab is already up-to-date!\n"
     ]
    }
   ],
   "execution_count": 1
  },
  {
   "metadata": {
    "ExecuteTime": {
     "end_time": "2024-10-06T18:11:11.794528Z",
     "start_time": "2024-10-06T18:11:11.768403Z"
    }
   },
   "cell_type": "code",
   "source": "model = LR_WE_Model()",
   "id": "c6a3778125db407e",
   "outputs": [],
   "execution_count": 2
  },
  {
   "metadata": {
    "ExecuteTime": {
     "end_time": "2024-10-06T18:11:15.788153Z",
     "start_time": "2024-10-06T18:11:15.762561Z"
    }
   },
   "cell_type": "code",
   "source": "model.load('./models/lr_we_classifier.keras')",
   "id": "a6f651002bc0a978",
   "outputs": [],
   "execution_count": 3
  },
  {
   "metadata": {
    "ExecuteTime": {
     "end_time": "2024-10-06T18:11:21.170422Z",
     "start_time": "2024-10-06T18:11:21.167369Z"
    }
   },
   "cell_type": "code",
   "source": [
    "from sklearn.model_selection import train_test_split\n",
    "from sklearn.metrics import confusion_matrix, ConfusionMatrixDisplay\n",
    "import matplotlib.pyplot as plt"
   ],
   "id": "8841ff8cbd2fc8af",
   "outputs": [],
   "execution_count": 4
  },
  {
   "metadata": {
    "ExecuteTime": {
     "end_time": "2024-10-06T18:11:22.068688Z",
     "start_time": "2024-10-06T18:11:22.041187Z"
    }
   },
   "cell_type": "code",
   "source": [
    "x_set = []\n",
    "y_set = []\n",
    "\n",
    "with open(\"data/dialog_acts.dat\", 'r') as file:\n",
    "    for line in file:\n",
    "        y_set.append(line.split()[0])\n",
    "        x_set.append(\" \".join(line.split()[1:]).lower())\n",
    "        \n",
    "x_train, x_test, y_train, y_test = train_test_split(x_set, y_set, test_size=0.2, random_state=42)"
   ],
   "id": "ab3c7ae5f5042870",
   "outputs": [],
   "execution_count": 5
  },
  {
   "metadata": {
    "ExecuteTime": {
     "end_time": "2024-10-06T18:12:49.936864Z",
     "start_time": "2024-10-06T18:11:24.857777Z"
    }
   },
   "cell_type": "code",
   "source": [
    "y_pred = []\n",
    "for elem in x_test:\n",
    "    y_pred.append(model.predict([elem]))"
   ],
   "id": "222055de722934b8",
   "outputs": [],
   "execution_count": 6
  },
  {
   "metadata": {
    "ExecuteTime": {
     "end_time": "2024-10-06T18:13:28.128592Z",
     "start_time": "2024-10-06T18:13:28.124410Z"
    }
   },
   "cell_type": "code",
   "source": "labels=[\"inform\", \"thankyou\",'affirm','request','reqalts','negate','null','bye','deny','confirm','hello','restart','repeat','ack','reqmore']",
   "id": "2022f060ac7e2e3f",
   "outputs": [],
   "execution_count": 7
  },
  {
   "metadata": {
    "ExecuteTime": {
     "end_time": "2024-10-06T18:13:28.745566Z",
     "start_time": "2024-10-06T18:13:28.725659Z"
    }
   },
   "cell_type": "code",
   "source": "confusion_matrix(y_test, y_pred, labels=labels)",
   "id": "a13f6f789fa8b416",
   "outputs": [
    {
     "data": {
      "text/plain": [
       "array([[ 355,    2,    1, 1657,   20,    1,    0,    0,    0,    0,    0,\n",
       "           0,    1,    2,    2],\n",
       "       [  11,    0,    0,  623,    0,    0,    0,    0,    0,    0,    0,\n",
       "           0,    0,    0,    0],\n",
       "       [  13,    0,    0,  234,    0,    0,    0,    0,    0,    0,    0,\n",
       "           0,    0,    0,    0],\n",
       "       [ 477,    0,    0,  828,    0,    0,    0,    0,    0,    0,    0,\n",
       "           0,    0,    0,    0],\n",
       "       [  45,    0,    0,  323,    0,    0,    0,    0,    0,    0,    0,\n",
       "           0,    0,    0,    0],\n",
       "       [  38,    0,    0,   43,    0,    0,    0,    0,    0,    0,    0,\n",
       "           0,    0,    0,    0],\n",
       "       [ 125,    0,    0,  184,    0,    0,    0,    0,    0,    0,    0,\n",
       "           0,    0,    0,    0],\n",
       "       [   3,    0,    0,   43,    0,    0,    0,    0,    0,    0,    0,\n",
       "           0,    0,    0,    0],\n",
       "       [   4,    0,    0,    3,    0,    0,    0,    0,    0,    0,    0,\n",
       "           0,    0,    0,    0],\n",
       "       [  16,    0,    0,   17,    0,    0,    0,    0,    0,    0,    0,\n",
       "           0,    0,    0,    0],\n",
       "       [   1,    0,    0,   15,    0,    0,    0,    0,    0,    0,    0,\n",
       "           0,    0,    0,    0],\n",
       "       [   0,    0,    0,    3,    0,    0,    0,    0,    0,    0,    0,\n",
       "           0,    0,    0,    0],\n",
       "       [   4,    0,    0,    0,    0,    0,    0,    0,    0,    0,    0,\n",
       "           0,    0,    0,    0],\n",
       "       [   1,    0,    0,    4,    0,    0,    0,    0,    0,    0,    0,\n",
       "           0,    0,    0,    0],\n",
       "       [   0,    0,    0,    2,    0,    0,    0,    0,    0,    0,    0,\n",
       "           0,    0,    0,    0]])"
      ]
     },
     "execution_count": 8,
     "metadata": {},
     "output_type": "execute_result"
    }
   ],
   "execution_count": 8
  },
  {
   "metadata": {
    "ExecuteTime": {
     "end_time": "2024-10-06T18:13:30.036337Z",
     "start_time": "2024-10-06T18:13:29.798040Z"
    }
   },
   "cell_type": "code",
   "source": [
    "ConfusionMatrixDisplay.from_predictions(y_test, y_pred, cmap='RdPu', display_labels=labels)\n",
    "plt.savefig('./data/conf_matrix.png')"
   ],
   "id": "d1dd5380756175e9",
   "outputs": [
    {
     "data": {
      "text/plain": [
       "<Figure size 640x480 with 2 Axes>"
      ],
      "image/png": "[encoded data removed]"
     },
     "metadata": {},
     "output_type": "display_data"
    }
   ],
   "execution_count": 9
  },
  {
   "metadata": {},
   "cell_type": "code",
   "outputs": [],
   "execution_count": null,
   "source": "",
   "id": "1f5e62eaa0d4de59"
  }
 ],
 "metadata": {
  "kernelspec": {
   "display_name": "Python 3",
   "language": "python",
   "name": "python3"
  },
  "language_info": {
   "codemirror_mode": {
    "name": "ipython",
    "version": 2
   },
   "file_extension": ".py",
   "mimetype": "text/x-python",
   "name": "python",
   "nbconvert_exporter": "python",
   "pygments_lexer": "ipython2",
   "version": "2.7.6"
  }
 },
 "nbformat": 4,
 "nbformat_minor": 5
}
