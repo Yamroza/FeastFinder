{
 "cells": [
  {
   "metadata": {},
   "cell_type": "markdown",
   "source": "",
   "id": "d0fa097ece282cf7"
  },
  {
   "metadata": {
    "ExecuteTime": {
     "end_time": "2024-09-12T08:03:22.171330Z",
     "start_time": "2024-09-12T08:03:22.142755Z"
    }
   },
   "cell_type": "code",
   "source": [
    "x_set = []\n",
    "y_set = []\n",
    "\n",
    "with open(\"dialog_acts.dat\", 'r') as file:\n",
    "    for line in file:\n",
    "        y_set.append(line.split()[0])\n",
    "        x_set.append(\" \".join(line.split()[1:]))\n",
    "    # dialog_dataset = file.read()\n",
    "\n",
    "y_set[0], x_set[0]\n",
    "    "
   ],
   "id": "9c95076341af215e",
   "outputs": [
    {
     "data": {
      "text/plain": [
       "('inform', 'im looking for a moderately priced restaurant that serves')"
      ]
     },
     "execution_count": 43,
     "metadata": {},
     "output_type": "execute_result"
    }
   ],
   "execution_count": 43
  },
  {
   "metadata": {
    "ExecuteTime": {
     "end_time": "2024-09-12T08:14:09.559669Z",
     "start_time": "2024-09-12T08:14:09.555521Z"
    }
   },
   "cell_type": "code",
   "source": [
    "x_train, x_test = x_set[int(len(x_set)*0.15):], x_set[:int(len(x_set)*0.15)]\n",
    "y_train, y_test = x_set[int(len(y_set)*0.15):], x_set[:int(len(y_set)*0.15)]\n",
    "len(x_train), len(x_test), len(y_train), len(y_test)"
   ],
   "id": "b8a178cdbe772690",
   "outputs": [
    {
     "data": {
      "text/plain": [
       "(21676, 3825, 21676, 3825)"
      ]
     },
     "execution_count": 62,
     "metadata": {},
     "output_type": "execute_result"
    }
   ],
   "execution_count": 62
  },
  {
   "metadata": {},
   "cell_type": "code",
   "outputs": [],
   "execution_count": null,
   "source": "",
   "id": "be0ba654c1572a6d"
  }
 ],
 "metadata": {
  "kernelspec": {
   "display_name": "Python 3",
   "language": "python",
   "name": "python3"
  },
  "language_info": {
   "codemirror_mode": {
    "name": "ipython",
    "version": 2
   },
   "file_extension": ".py",
   "mimetype": "text/x-python",
   "name": "python",
   "nbconvert_exporter": "python",
   "pygments_lexer": "ipython2",
   "version": "2.7.6"
  }
 },
 "nbformat": 4,
 "nbformat_minor": 5
}
