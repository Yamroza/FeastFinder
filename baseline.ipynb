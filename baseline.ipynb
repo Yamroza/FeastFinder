{
 "cells": [
  {
   "metadata": {
    "ExecuteTime": {
     "end_time": "2024-09-12T08:29:45.565824Z",
     "start_time": "2024-09-12T08:29:45.562421Z"
    }
   },
   "cell_type": "code",
   "source": "from sklearn.model_selection import train_test_split",
   "id": "adb0a65b80096e1c",
   "outputs": [],
   "execution_count": 14
  },
  {
   "metadata": {
    "ExecuteTime": {
     "end_time": "2024-09-12T08:30:13.413234Z",
     "start_time": "2024-09-12T08:30:13.388481Z"
    }
   },
   "cell_type": "code",
   "source": [
    "x_set = []\n",
    "y_set = []\n",
    "\n",
    "with open(\"dialog_acts.dat\", 'r') as file:\n",
    "    for line in file:\n",
    "        y_set.append(line.split()[0])\n",
    "        x_set.append(\" \".join(line.split()[1:]))\n",
    "\n",
    "y_set[0], x_set[0]\n",
    "    "
   ],
   "id": "9c95076341af215e",
   "outputs": [
    {
     "data": {
      "text/plain": [
       "('inform', 'im looking for a moderately priced restaurant that serves')"
      ]
     },
     "execution_count": 20,
     "metadata": {},
     "output_type": "execute_result"
    }
   ],
   "execution_count": 20
  },
  {
   "metadata": {
    "ExecuteTime": {
     "end_time": "2024-09-12T08:29:46.642610Z",
     "start_time": "2024-09-12T08:29:46.640047Z"
    }
   },
   "cell_type": "code",
   "source": [
    "# x_train, x_test = x_set[int(len(x_set)*0.15):], x_set[:int(len(x_set)*0.15)]\n",
    "# y_train, y_test = y_set[int(len(y_set)*0.15):], y_set[:int(len(y_set)*0.15)]\n",
    "# len(x_train), len(x_test), len(y_train), len(y_test)"
   ],
   "id": "b8a178cdbe772690",
   "outputs": [],
   "execution_count": 16
  },
  {
   "metadata": {
    "ExecuteTime": {
     "end_time": "2024-09-12T08:29:47.273011Z",
     "start_time": "2024-09-12T08:29:47.259152Z"
    }
   },
   "cell_type": "code",
   "source": [
    "X_train, X_test, y_train, y_test = train_test_split(x_set, y_set, test_size=0.15, random_state=42)\n",
    "len(X_train), len(X_test), len(y_train), len(y_test)\n"
   ],
   "id": "16255f5c4fb96381",
   "outputs": [
    {
     "data": {
      "text/plain": [
       "(21675, 3826, 21675, 3826)"
      ]
     },
     "execution_count": 17,
     "metadata": {},
     "output_type": "execute_result"
    }
   ],
   "execution_count": 17
  },
  {
   "metadata": {},
   "cell_type": "markdown",
   "source": "## Dummy baseline",
   "id": "b288e8730187a965"
  },
  {
   "metadata": {
    "ExecuteTime": {
     "end_time": "2024-09-12T08:29:57.086022Z",
     "start_time": "2024-09-12T08:29:57.083224Z"
    }
   },
   "cell_type": "code",
   "source": [
    "def dummy_baseline(query: str) -> str:\n",
    "    return max(set(y_train), key=y_train.count)"
   ],
   "id": "be0ba654c1572a6d",
   "outputs": [],
   "execution_count": 18
  },
  {
   "metadata": {
    "ExecuteTime": {
     "end_time": "2024-09-12T08:29:57.850869Z",
     "start_time": "2024-09-12T08:29:57.839787Z"
    }
   },
   "cell_type": "code",
   "source": "print(dummy_baseline('hi'))",
   "id": "d55262a09cf4b853",
   "outputs": [
    {
     "name": "stdout",
     "output_type": "stream",
     "text": [
      "inform\n"
     ]
    }
   ],
   "execution_count": 19
  },
  {
   "metadata": {
    "ExecuteTime": {
     "end_time": "2024-09-12T08:33:07.519561Z",
     "start_time": "2024-09-12T08:33:07.516533Z"
    }
   },
   "cell_type": "code",
   "source": [
    "dummy_baseline_acc = y_test.count('inform') / len(y_test)\n",
    "print(dummy_baseline_acc)"
   ],
   "id": "76637fd2003de0d6",
   "outputs": [
    {
     "name": "stdout",
     "output_type": "stream",
     "text": [
      "0.40041819132253004\n"
     ]
    }
   ],
   "execution_count": 24
  },
  {
   "metadata": {},
   "cell_type": "markdown",
   "source": "## Rule-based baseline ",
   "id": "6d2cdda5d19f02aa"
  },
  {
   "metadata": {},
   "cell_type": "code",
   "outputs": [],
   "execution_count": null,
   "source": "",
   "id": "2a686882719077df"
  }
 ],
 "metadata": {
  "kernelspec": {
   "display_name": "Python 3",
   "language": "python",
   "name": "python3"
  },
  "language_info": {
   "codemirror_mode": {
    "name": "ipython",
    "version": 2
   },
   "file_extension": ".py",
   "mimetype": "text/x-python",
   "name": "python",
   "nbconvert_exporter": "python",
   "pygments_lexer": "ipython2",
   "version": "2.7.6"
  }
 },
 "nbformat": 4,
 "nbformat_minor": 5
}
