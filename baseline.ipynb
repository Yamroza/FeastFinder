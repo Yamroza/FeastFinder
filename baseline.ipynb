{
 "cells": [
  {
   "metadata": {
    "ExecuteTime": {
     "end_time": "2024-09-12T08:06:18.251629Z",
     "start_time": "2024-09-12T08:05:56.283717Z"
    }
   },
   "cell_type": "code",
   "source": "",
   "id": "ed53ba6401602861",
   "outputs": [
    {
     "name": "stdout",
     "output_type": "stream",
     "text": [
      "Retrieving notices: ...working... done\r\n",
      "Channels:\r\n",
      " - defaults\r\n",
      "Platform: osx-arm64\r\n",
      "Collecting package metadata (repodata.json): done\r\n",
      "Solving environment: done\r\n",
      "\r\n",
      "## Package Plan ##\r\n",
      "\r\n",
      "  environment location: /opt/anaconda3\r\n",
      "\r\n",
      "  added / updated specs:\r\n",
      "    - scikit-learn\r\n",
      "\r\n",
      "\r\n",
      "The following packages will be downloaded:\r\n",
      "\r\n",
      "    package                    |            build\r\n",
      "    ---------------------------|-----------------\r\n",
      "    ca-certificates-2024.7.2   |       hca03da5_0         128 KB\r\n",
      "    certifi-2024.8.30          |  py312hca03da5_0         164 KB\r\n",
      "    conda-24.7.1               |  py312hca03da5_0         1.2 MB\r\n",
      "    openssl-3.0.15             |       h80987f9_0         4.3 MB\r\n",
      "    scikit-learn-1.5.1         |  py312hd77ebd4_0         9.7 MB\r\n",
      "    threadpoolctl-3.5.0        |  py312h989b03a_0          49 KB\r\n",
      "    ------------------------------------------------------------\r\n",
      "                                           Total:        15.5 MB\r\n",
      "\r\n",
      "The following packages will be UPDATED:\r\n",
      "\r\n",
      "  ca-certificates                      2024.3.11-hca03da5_0 --> 2024.7.2-hca03da5_0 \r\n",
      "  certifi                          2024.6.2-py312hca03da5_0 --> 2024.8.30-py312hca03da5_0 \r\n",
      "  conda                              24.5.0-py312hca03da5_0 --> 24.7.1-py312hca03da5_0 \r\n",
      "  openssl                                 3.0.14-h80987f9_0 --> 3.0.15-h80987f9_0 \r\n",
      "  scikit-learn                        1.4.2-py312hd77ebd4_1 --> 1.5.1-py312hd77ebd4_0 \r\n",
      "  threadpoolctl      pkgs/main/noarch::threadpoolctl-2.2.0~ --> pkgs/main/osx-arm64::threadpoolctl-3.5.0-py312h989b03a_0 \r\n",
      "\r\n",
      "\r\n",
      "Proceed ([y]/n)? ^C\r\n",
      "\r\n",
      "CondaSystemExit: \r\n",
      "Operation aborted.  Exiting.\r\n",
      "\r\n"
     ]
    }
   ],
   "execution_count": 51
  },
  {
   "metadata": {},
   "cell_type": "markdown",
   "source": "",
   "id": "d0fa097ece282cf7"
  },
  {
   "metadata": {
    "ExecuteTime": {
     "end_time": "2024-09-12T08:07:31.513873Z",
     "start_time": "2024-09-12T08:07:31.485209Z"
    }
   },
   "cell_type": "code",
   "source": [
    "import sklearn\n",
    "# .model_selection import train_test_split"
   ],
   "id": "adb0a65b80096e1c",
   "outputs": [
    {
     "ename": "ModuleNotFoundError",
     "evalue": "No module named 'sklearn'",
     "output_type": "error",
     "traceback": [
      "\u001B[0;31m---------------------------------------------------------------------------\u001B[0m",
      "\u001B[0;31mModuleNotFoundError\u001B[0m                       Traceback (most recent call last)",
      "Cell \u001B[0;32mIn[54], line 1\u001B[0m\n\u001B[0;32m----> 1\u001B[0m \u001B[38;5;28;01mimport\u001B[39;00m \u001B[38;5;21;01msklearn\u001B[39;00m\n\u001B[1;32m      2\u001B[0m \u001B[38;5;66;03m# .model_selection import train_test_split\u001B[39;00m\n",
      "\u001B[0;31mModuleNotFoundError\u001B[0m: No module named 'sklearn'"
     ]
    }
   ],
   "execution_count": 54
  },
  {
   "metadata": {
    "ExecuteTime": {
     "end_time": "2024-09-12T08:03:22.171330Z",
     "start_time": "2024-09-12T08:03:22.142755Z"
    }
   },
   "cell_type": "code",
   "source": [
    "x_set = []\n",
    "y_set = []\n",
    "\n",
    "with open(\"dialog_acts.dat\", 'r') as file:\n",
    "    for line in file:\n",
    "        y_set.append(line.split()[0])\n",
    "        x_set.append(\" \".join(line.split()[1:]))\n",
    "    # dialog_dataset = file.read()\n",
    "\n",
    "y_set[0], x_set[0]\n",
    "    "
   ],
   "id": "9c95076341af215e",
   "outputs": [
    {
     "data": {
      "text/plain": [
       "('inform', 'im looking for a moderately priced restaurant that serves')"
      ]
     },
     "execution_count": 43,
     "metadata": {},
     "output_type": "execute_result"
    }
   ],
   "execution_count": 43
  },
  {
   "metadata": {
    "ExecuteTime": {
     "end_time": "2024-09-12T08:14:09.559669Z",
     "start_time": "2024-09-12T08:14:09.555521Z"
    }
   },
   "cell_type": "code",
   "source": [
    "x_train, x_test = x_set[int(len(x_set)*0.15):], x_set[:int(len(x_set)*0.15)]\n",
    "y_train, y_test = x_set[int(len(y_set)*0.15):], x_set[:int(len(y_set)*0.15)]\n",
    "len(x_train), len(x_test), len(y_train), len(y_test)"
   ],
   "id": "b8a178cdbe772690",
   "outputs": [
    {
     "data": {
      "text/plain": [
       "(21676, 3825, 21676, 3825)"
      ]
     },
     "execution_count": 62,
     "metadata": {},
     "output_type": "execute_result"
    }
   ],
   "execution_count": 62
  },
  {
   "metadata": {},
   "cell_type": "code",
   "outputs": [],
   "execution_count": null,
   "source": "",
   "id": "be0ba654c1572a6d"
  }
 ],
 "metadata": {
  "kernelspec": {
   "display_name": "Python 3",
   "language": "python",
   "name": "python3"
  },
  "language_info": {
   "codemirror_mode": {
    "name": "ipython",
    "version": 2
   },
   "file_extension": ".py",
   "mimetype": "text/x-python",
   "name": "python",
   "nbconvert_exporter": "python",
   "pygments_lexer": "ipython2",
   "version": "2.7.6"
  }
 },
 "nbformat": 4,
 "nbformat_minor": 5
}
