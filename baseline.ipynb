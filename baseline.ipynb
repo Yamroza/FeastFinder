{
 "cells": [
  {
   "cell_type": "code",
   "execution_count": 14,
   "id": "adb0a65b80096e1c",
   "metadata": {
    "ExecuteTime": {
     "end_time": "2024-09-12T08:29:45.565824Z",
     "start_time": "2024-09-12T08:29:45.562421Z"
    }
   },
   "outputs": [],
   "source": [
    "from sklearn.model_selection import train_test_split"
   ]
  },
  {
   "cell_type": "code",
   "execution_count": 5,
   "id": "9c95076341af215e",
   "metadata": {
    "ExecuteTime": {
     "end_time": "2024-09-12T08:30:13.413234Z",
     "start_time": "2024-09-12T08:30:13.388481Z"
    }
   },
   "outputs": [
    {
     "data": {
      "text/plain": [
       "('inform', 'im looking for a moderately priced restaurant that serves')"
      ]
     },
     "execution_count": 5,
     "metadata": {},
     "output_type": "execute_result"
    }
   ],
   "source": [
    "x_set = []\n",
    "y_set = []\n",
    "\n",
    "with open(\"dialog_acts.dat\", 'r') as file:\n",
    "    for line in file:\n",
    "        y_set.append(line.split()[0])\n",
    "        x_set.append(\" \".join(line.split()[1:]))\n",
    "\n",
    "y_set[0], x_set[0]\n",
    "    "
   ]
  },
  {
   "cell_type": "code",
   "execution_count": 16,
   "id": "b8a178cdbe772690",
   "metadata": {
    "ExecuteTime": {
     "end_time": "2024-09-12T08:29:46.642610Z",
     "start_time": "2024-09-12T08:29:46.640047Z"
    }
   },
   "outputs": [],
   "source": [
    "# x_train, x_test = x_set[int(len(x_set)*0.15):], x_set[:int(len(x_set)*0.15)]\n",
    "# y_train, y_test = y_set[int(len(y_set)*0.15):], y_set[:int(len(y_set)*0.15)]\n",
    "# len(x_train), len(x_test), len(y_train), len(y_test)"
   ]
  },
  {
   "cell_type": "code",
   "execution_count": 17,
   "id": "16255f5c4fb96381",
   "metadata": {
    "ExecuteTime": {
     "end_time": "2024-09-12T08:29:47.273011Z",
     "start_time": "2024-09-12T08:29:47.259152Z"
    }
   },
   "outputs": [
    {
     "data": {
      "text/plain": [
       "(21675, 3826, 21675, 3826)"
      ]
     },
     "execution_count": 17,
     "metadata": {},
     "output_type": "execute_result"
    }
   ],
   "source": [
    "X_train, X_test, y_train, y_test = train_test_split(x_set, y_set, test_size=0.15, random_state=42)\n",
    "len(X_train), len(X_test), len(y_train), len(y_test)\n"
   ]
  },
  {
   "cell_type": "markdown",
   "id": "b288e8730187a965",
   "metadata": {},
   "source": [
    "## Dummy baseline"
   ]
  },
  {
   "cell_type": "code",
   "execution_count": 18,
   "id": "be0ba654c1572a6d",
   "metadata": {
    "ExecuteTime": {
     "end_time": "2024-09-12T08:29:57.086022Z",
     "start_time": "2024-09-12T08:29:57.083224Z"
    }
   },
   "outputs": [],
   "source": [
    "def dummy_baseline(query: str) -> str:\n",
    "    return max(set(y_train), key=y_train.count)"
   ]
  },
  {
   "cell_type": "code",
   "execution_count": 19,
   "id": "d55262a09cf4b853",
   "metadata": {
    "ExecuteTime": {
     "end_time": "2024-09-12T08:29:57.850869Z",
     "start_time": "2024-09-12T08:29:57.839787Z"
    }
   },
   "outputs": [
    {
     "name": "stdout",
     "output_type": "stream",
     "text": [
      "inform\n"
     ]
    }
   ],
   "source": [
    "print(dummy_baseline('hi'))"
   ]
  },
  {
   "cell_type": "code",
   "execution_count": 24,
   "id": "76637fd2003de0d6",
   "metadata": {
    "ExecuteTime": {
     "end_time": "2024-09-12T08:33:07.519561Z",
     "start_time": "2024-09-12T08:33:07.516533Z"
    }
   },
   "outputs": [
    {
     "name": "stdout",
     "output_type": "stream",
     "text": [
      "0.40041819132253004\n"
     ]
    }
   ],
   "source": [
    "dummy_baseline_acc = y_test.count('inform') / len(y_test)\n",
    "print(dummy_baseline_acc)"
   ]
  },
  {
   "cell_type": "markdown",
   "id": "6d2cdda5d19f02aa",
   "metadata": {},
   "source": [
    "## Rule-based baseline : TODO"
   ]
  },
  {
   "cell_type": "code",
   "execution_count": 18,
   "id": "2a686882719077df",
   "metadata": {},
   "outputs": [],
   "source": [
    "def rule_based_baseline(query: str, keywords_dict: dict[str, str]):\n",
    "    for key, value in keywords_dict.items():\n",
    "        for keyword in value:\n",
    "            if keyword in query:\n",
    "                return key"
   ]
  },
  {
   "cell_type": "code",
   "execution_count": null,
   "id": "7c237f05c76c986",
   "metadata": {
    "ExecuteTime": {
     "end_time": "2024-09-12T08:43:09.923488Z",
     "start_time": "2024-09-12T08:43:09.875009Z"
    }
   },
   "outputs": [],
   "source": [
    "if ['no', 'yes'] in 'no':\n",
    "    print('Aha')"
   ]
  },
  {
   "cell_type": "code",
   "execution_count": 28,
   "id": "e89f30443e03091b",
   "metadata": {
    "ExecuteTime": {
     "end_time": "2024-09-12T08:44:48.808075Z",
     "start_time": "2024-09-12T08:44:48.805791Z"
    }
   },
   "outputs": [],
   "source": [
    "query = 'yss'\n",
    "if any(keyword in query for keyword in ['yes', 'no']):\n",
    "    print('aha')\n",
    "    \n",
    "    "
   ]
  },
  {
   "cell_type": "code",
   "execution_count": 8,
   "id": "be8c85bc479a443e",
   "metadata": {},
   "outputs": [],
   "source": [
    "keyword_dict = {\n",
    "    'ack': ['kay', 'okay', 'good', 'fine'],\n",
    "    'affirm': ['yes', 'right', 'correct', 'yeah', 'ye'],\n",
    "    'bye': ['good', 'bye'],\n",
    "    'confirm': ['does', 'is', 'it', 'they', 'there'],\n",
    "    'deny': ['wrong', 'want', 'dont'],\n",
    "    'hello': ['hi', 'hello', 'im', 'looking'],\n",
    "    'inform': ['any', 'food', 'care', 'expensive', 'moderate', 'cheap', 'east', 'west', 'north', 'south', 'centre', 'care', 'town', 'area'],\n",
    "    'negate': ['no'],\n",
    "    'null': ['unintelligible', 'noise', 'okay', 'what', 'uh', 'sil', 'laughing'],\n",
    "    'repeat': ['repeat', 'back', 'go', 'again'],\n",
    "    'reqalts': ['else', 'next', 'how', 'about', 'any', 'anything'],\n",
    "    'reqmore': ['more'],\n",
    "    'request': ['type', 'phone', 'number', 'address'],\n",
    "    'restart': ['start', 'over', 'reset'],\n",
    "    'thankyou': ['thank', 'you', 'good', 'bye'],\n",
    "}"
   ]
  },
  {
   "cell_type": "code",
   "execution_count": 30,
   "id": "6392ba8b69078498",
   "metadata": {},
   "outputs": [
    {
     "name": "stdout",
     "output_type": "stream",
     "text": [
      "Rate:  0.0011764244539429827\n"
     ]
    }
   ],
   "source": [
    "positive = 0\n",
    "for x in range(len(y_set)):\n",
    "    pred = rule_based_baseline(x_set[x], keyword_dict)\n",
    "    if (x_set[x] == pred):\n",
    "        positive = positive+1\n",
    "rate = positive / len(y_set)\n",
    "print('Rate: ', rate)\n",
    "\n",
    "\n"
   ]
  }
 ],
 "metadata": {
  "kernelspec": {
   "display_name": "Python 3",
   "language": "python",
   "name": "python3"
  },
  "language_info": {
   "codemirror_mode": {
    "name": "ipython",
    "version": 3
   },
   "file_extension": ".py",
   "mimetype": "text/x-python",
   "name": "python",
   "nbconvert_exporter": "python",
   "pygments_lexer": "ipython3",
   "version": "3.12.5"
  }
 },
 "nbformat": 4,
 "nbformat_minor": 5
}
