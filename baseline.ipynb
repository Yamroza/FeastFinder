{
 "cells": [
  {
   "cell_type": "code",
   "execution_count": 1,
   "id": "adb0a65b80096e1c",
   "metadata": {
    "ExecuteTime": {
     "end_time": "2024-09-12T08:29:45.565824Z",
     "start_time": "2024-09-12T08:29:45.562421Z"
    }
   },
   "outputs": [],
   "source": [
    "from sklearn.model_selection import train_test_split"
   ]
  },
  {
   "cell_type": "code",
   "execution_count": 2,
   "id": "9c95076341af215e",
   "metadata": {
    "ExecuteTime": {
     "end_time": "2024-09-12T08:30:13.413234Z",
     "start_time": "2024-09-12T08:30:13.388481Z"
    }
   },
   "outputs": [
    {
     "data": {
      "text/plain": [
       "('inform', 'im looking for a moderately priced restaurant that serves')"
      ]
     },
     "execution_count": 2,
     "metadata": {},
     "output_type": "execute_result"
    }
   ],
   "source": [
    "x_set = []\n",
    "y_set = []\n",
    "\n",
    "with open(\"dialog_acts.dat\", 'r') as file:\n",
    "    for line in file:\n",
    "        y_set.append(line.split()[0])\n",
    "        x_set.append(\" \".join(line.split()[1:]))\n",
    "\n",
    "y_set[0], x_set[0]\n",
    "    "
   ]
  },
  {
   "cell_type": "code",
   "execution_count": 16,
   "id": "b8a178cdbe772690",
   "metadata": {
    "ExecuteTime": {
     "end_time": "2024-09-12T08:29:46.642610Z",
     "start_time": "2024-09-12T08:29:46.640047Z"
    }
   },
   "outputs": [],
   "source": [
    "# x_train, x_test = x_set[int(len(x_set)*0.15):], x_set[:int(len(x_set)*0.15)]\n",
    "# y_train, y_test = y_set[int(len(y_set)*0.15):], y_set[:int(len(y_set)*0.15)]\n",
    "# len(x_train), len(x_test), len(y_train), len(y_test)"
   ]
  },
  {
   "cell_type": "code",
   "execution_count": 3,
   "id": "16255f5c4fb96381",
   "metadata": {
    "ExecuteTime": {
     "end_time": "2024-09-12T08:29:47.273011Z",
     "start_time": "2024-09-12T08:29:47.259152Z"
    }
   },
   "outputs": [
    {
     "data": {
      "text/plain": [
       "(21675, 3826, 21675, 3826)"
      ]
     },
     "execution_count": 3,
     "metadata": {},
     "output_type": "execute_result"
    }
   ],
   "source": [
    "X_train, X_test, y_train, y_test = train_test_split(x_set, y_set, test_size=0.15, random_state=42)\n",
    "len(X_train), len(X_test), len(y_train), len(y_test)\n"
   ]
  },
  {
   "cell_type": "markdown",
   "id": "b288e8730187a965",
   "metadata": {},
   "source": [
    "## Dummy baseline"
   ]
  },
  {
   "cell_type": "code",
   "execution_count": 4,
   "id": "be0ba654c1572a6d",
   "metadata": {
    "ExecuteTime": {
     "end_time": "2024-09-12T08:29:57.086022Z",
     "start_time": "2024-09-12T08:29:57.083224Z"
    }
   },
   "outputs": [],
   "source": [
    "def dummy_baseline(query: str) -> str:\n",
    "    return max(set(y_train), key=y_train.count)"
   ]
  },
  {
   "cell_type": "code",
   "execution_count": 19,
   "id": "d55262a09cf4b853",
   "metadata": {
    "ExecuteTime": {
     "end_time": "2024-09-12T08:29:57.850869Z",
     "start_time": "2024-09-12T08:29:57.839787Z"
    }
   },
   "outputs": [
    {
     "name": "stdout",
     "output_type": "stream",
     "text": [
      "inform\n"
     ]
    }
   ],
   "source": [
    "print(dummy_baseline('hi'))"
   ]
  },
  {
   "cell_type": "code",
   "execution_count": 10,
   "id": "76637fd2003de0d6",
   "metadata": {
    "ExecuteTime": {
     "end_time": "2024-09-12T08:33:07.519561Z",
     "start_time": "2024-09-12T08:33:07.516533Z"
    }
   },
   "outputs": [
    {
     "name": "stdout",
     "output_type": "stream",
     "text": [
      "0.40041819132253004\n"
     ]
    }
   ],
   "source": [
    "dummy_baseline_acc = y_test.count('inform') / len(y_test)\n",
    "print(dummy_baseline_acc)"
   ]
  },
  {
   "cell_type": "markdown",
   "id": "6d2cdda5d19f02aa",
   "metadata": {},
   "source": [
    "## Rule-based baseline : TODO"
   ]
  },
  {
   "cell_type": "code",
   "execution_count": 169,
   "id": "d555b8ef",
   "metadata": {},
   "outputs": [],
   "source": [
    "# Function takes as arguments a sentence and a category-keyword dictionary.\n",
    "\n",
    "def rule_based_baseline(sentence, keyword_dict):\n",
    "    result = [0] * 15\n",
    "    count = [0] * 15\n",
    "    words = sentence.split()\n",
    "    i = 0\n",
    "    for keywords in keyword_dict.values(): # Iterating over categories\n",
    "        for key in keywords: # Iterating over keywords in the categories\n",
    "            for word in words: # Iterating over words in the sentence\n",
    "                if key == word:\n",
    "                    count[i] += 1\n",
    "        i += 1\n",
    "    max_keywards = max(count) # Finding number of the most maching keywords within a category\n",
    "    index_of_max_keywords =  count.index(max_keywards) # Finding the index of the category with the most matching keywords\n",
    "    result[index_of_max_keywords] = 1 # Encoding the categry \n",
    "    return result # Function returns a encoded category, encoding matches what a neural network would return.\n",
    "    # This is done for ease of inegration with other systems that may be build during this project."
   ]
  },
  {
   "cell_type": "code",
   "execution_count": 175,
   "id": "be8c85bc479a443e",
   "metadata": {},
   "outputs": [],
   "source": [
    "# Category-keyword dictionary\n",
    "\n",
    "keyword_dict = {\n",
    "    'ack': ['kay', 'okay', 'good', 'fine'],\n",
    "    'affirm': ['yes', 'right', 'correct', 'yeah', 'ye', 'right', 'correct', 'perfect'],\n",
    "    'bye': ['good', 'bye'],\n",
    "    'confirm': ['does', 'is', 'it'],\n",
    "    'deny': ['wrong', 'want', 'dont'],\n",
    "    'hello': ['hi', 'hello', 'im', 'looking'],\n",
    "    'inform': ['any', 'food', 'dont', 'care', 'expensive', 'moderate', 'cheap', 'east', 'west', 'north', 'south', 'centre', 'town', 'area', 'im', 'need', 'restaurant', 'looking'],\n",
    "    'negate': ['no'],\n",
    "    'null': ['unintelligible', 'noise', 'what', 'uh', 'sil', 'laughing'],\n",
    "    'repeat': ['repeat', 'back', 'go', 'again'],\n",
    "    'reqalts': ['else', 'next', 'how', 'about', 'any', 'anything', 'is', 'there', 'other'],\n",
    "    'reqmore': ['more'],\n",
    "    'request': ['type', 'phone', 'number', 'address', 'post', 'code', 'could', 'what', 'is', 'the', 'type', 'whats', 'may', 'i'],\n",
    "    'restart': ['start', 'over', 'reset'],\n",
    "    'thankyou': ['thank', 'you', 'good', 'bye', 'goodbye'],\n",
    "}"
   ]
  },
  {
   "cell_type": "code",
   "execution_count": 171,
   "id": "59ee0fc7",
   "metadata": {},
   "outputs": [],
   "source": [
    "# Category-code dictionary\n",
    "\n",
    "result_dict = {\n",
    "    'ack': [1, 0, 0, 0, 0, 0, 0, 0, 0, 0, 0, 0, 0, 0, 0],\n",
    "    'affirm': [0, 1, 0, 0, 0, 0, 0, 0, 0, 0, 0, 0, 0, 0, 0],\n",
    "    'bye': [0, 0, 1, 0, 0, 0, 0, 0, 0, 0, 0, 0, 0, 0, 0],\n",
    "    'confirm': [0, 0, 0, 1, 0, 0, 0, 0, 0, 0, 0, 0, 0, 0, 0],\n",
    "    'deny': [0, 0, 0, 0, 1, 0, 0, 0, 0, 0, 0, 0, 0, 0, 0],\n",
    "    'hello': [0, 0, 0, 0, 0, 1, 0, 0, 0, 0, 0, 0, 0, 0, 0],\n",
    "    'inform': [0, 0, 0, 0, 0, 0, 1, 0, 0, 0, 0, 0, 0, 0, 0],\n",
    "    'negate': [0, 0, 0, 0, 0, 0, 0, 1, 0, 0, 0, 0, 0, 0, 0],\n",
    "    'null': [0, 0, 0, 0, 0, 0, 0, 0, 1, 0, 0, 0, 0, 0, 0],\n",
    "    'repeat': [0, 0, 0, 0, 0, 0, 0, 0, 0, 1, 0, 0, 0, 0, 0],\n",
    "    'reqalts': [0, 0, 0, 0, 0, 0, 0, 0, 0, 0, 1, 0, 0, 0, 0],\n",
    "    'reqmore': [0, 0, 0, 0, 0, 0, 0, 0, 0, 0, 0, 1, 0, 0, 0],\n",
    "    'request': [0, 0, 0, 0, 0, 0, 0, 0, 0, 0, 0, 0, 1, 0, 0],\n",
    "    'restart': [0, 0, 0, 0, 0, 0, 0, 0, 0, 0, 0, 0, 0, 1, 0],\n",
    "    'thankyou': [0, 0, 0, 0, 0, 0, 0, 0, 0, 0, 0, 0, 0, 0, 1],\n",
    "}"
   ]
  },
  {
   "cell_type": "code",
   "execution_count": 174,
   "id": "6392ba8b69078498",
   "metadata": {},
   "outputs": [
    {
     "name": "stdout",
     "output_type": "stream",
     "text": [
      "Rate:  0.8429168844746472\n"
     ]
    }
   ],
   "source": [
    "# Making predictions and calculating the success reate\n",
    "\n",
    "positive = 0\n",
    "for x in range(len(X_test)): # Iterating over sentences in the set\n",
    "    pred_coded = rule_based_baseline(X_test[x], keyword_dict) # Callin the predicting function to get the coded predicted category\n",
    "    for key, value in result_dict.items(): # Decoding categories\n",
    "        if pred_coded == value:\n",
    "            pred = key\n",
    "    if pred == y_test[x]: # Adding 1 to successful predition count if the prediction matches data\n",
    "        positive += 1\n",
    "rate = positive / len(y_test) # Calcualting and displaying a success rate\n",
    "print('Rate is: ', rate)"
   ]
  }
 ],
 "metadata": {
  "kernelspec": {
   "display_name": "Python 3",
   "language": "python",
   "name": "python3"
  },
  "language_info": {
   "codemirror_mode": {
    "name": "ipython",
    "version": 3
   },
   "file_extension": ".py",
   "mimetype": "text/x-python",
   "name": "python",
   "nbconvert_exporter": "python",
   "pygments_lexer": "ipython3",
   "version": "3.12.5"
  }
 },
 "nbformat": 4,
 "nbformat_minor": 5
}
