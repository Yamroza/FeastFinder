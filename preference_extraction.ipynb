{
 "cells": [
  {
   "metadata": {
    "ExecuteTime": {
     "end_time": "2024-09-21T17:39:45.823771Z",
     "start_time": "2024-09-21T17:39:45.817662Z"
    }
   },
   "cell_type": "code",
   "source": [
    "import pandas as pd\n",
    "from Levenshtein import distance"
   ],
   "id": "9585812dcb3131db",
   "outputs": [],
   "execution_count": 8
  },
  {
   "metadata": {
    "ExecuteTime": {
     "end_time": "2024-09-21T17:39:46.581850Z",
     "start_time": "2024-09-21T17:39:46.573100Z"
    }
   },
   "cell_type": "code",
   "source": [
    "restaurant_info = pd.read_csv('restaurant_info.csv')\n",
    "\n",
    "# extracting preferences available in out dataset\n",
    "food_types = pd.unique(restaurant_info['food'].dropna())\n",
    "areas = pd.unique(restaurant_info['area'].dropna())\n",
    "prices = pd.unique(restaurant_info['pricerange'].dropna())"
   ],
   "id": "367ac994cedd6948",
   "outputs": [],
   "execution_count": 9
  },
  {
   "metadata": {
    "ExecuteTime": {
     "end_time": "2024-09-21T17:39:47.605805Z",
     "start_time": "2024-09-21T17:39:47.601031Z"
    }
   },
   "cell_type": "code",
   "source": [
    "def extract_preference(utterance: str, category_list: list, threshold_distance: int) -> str:\n",
    "    words = utterance.lower().split()\n",
    "    \n",
    "    best_word = None\n",
    "    for word in words:\n",
    "        for keyword in category_list:\n",
    "            word_distance = distance(word, keyword)\n",
    "            if word_distance <= threshold_distance:\n",
    "                threshold_distance = word_distance\n",
    "                best_word = keyword\n",
    "\n",
    "    return best_word"
   ],
   "id": "9e425d32369b3ff9",
   "outputs": [],
   "execution_count": 10
  },
  {
   "metadata": {
    "ExecuteTime": {
     "end_time": "2024-09-21T17:39:48.658877Z",
     "start_time": "2024-09-21T17:39:48.654908Z"
    }
   },
   "cell_type": "code",
   "source": [
    "def extract_all_preferences(utterance: str, food_types: list, areas: list, prices: list) -> dict[str, str]:\n",
    "    \"\"\"\n",
    "    Extracts all preferences from a single 'inform' utterance at once\n",
    "    TO DISCUSS:\n",
    "    In the exercise description maximal Levenshtein distance is 3. Imo 3 is too much.\n",
    "    Examples where 3 still finds a preference (word in utterance -> preference):\n",
    "    food -> seafood\n",
    "    english -> polish\n",
    "    care -> centre\n",
    "    \"\"\"\n",
    "    value_dict = dict()\n",
    "    value_dict['food_type'] = extract_preference(utterance, food_types, 2)\n",
    "    value_dict['area'] = extract_preference(utterance, areas, 2)\n",
    "    value_dict['price'] = extract_preference(utterance, prices, 2)\n",
    "    \n",
    "    return value_dict    "
   ],
   "id": "a73de8a988ae126f",
   "outputs": [],
   "execution_count": 11
  },
  {
   "metadata": {
    "ExecuteTime": {
     "end_time": "2024-09-21T17:39:49.402503Z",
     "start_time": "2024-09-21T17:39:49.396561Z"
    }
   },
   "cell_type": "code",
   "source": [
    "# idc = ['t care', 'any', 't matter']\n",
    "\n",
    "sample_utterance = 'cheep, chinese food in amazing sothu of Utrecht'\n",
    "preferences = extract_all_preferences(sample_utterance, food_types, areas, prices)\n",
    "preferences"
   ],
   "id": "868ab1212165cbd9",
   "outputs": [
    {
     "data": {
      "text/plain": [
       "{'food_type': 'chinese', 'area': 'south', 'price': 'cheap'}"
      ]
     },
     "execution_count": 12,
     "metadata": {},
     "output_type": "execute_result"
    }
   ],
   "execution_count": 12
  },
  {
   "metadata": {},
   "cell_type": "code",
   "source": "",
   "id": "73a4eee7bdaa5a6",
   "outputs": [],
   "execution_count": null
  }
 ],
 "metadata": {
  "kernelspec": {
   "display_name": "Python 3",
   "language": "python",
   "name": "python3"
  },
  "language_info": {
   "codemirror_mode": {
    "name": "ipython",
    "version": 2
   },
   "file_extension": ".py",
   "mimetype": "text/x-python",
   "name": "python",
   "nbconvert_exporter": "python",
   "pygments_lexer": "ipython2",
   "version": "2.7.6"
  }
 },
 "nbformat": 4,
 "nbformat_minor": 5
}
